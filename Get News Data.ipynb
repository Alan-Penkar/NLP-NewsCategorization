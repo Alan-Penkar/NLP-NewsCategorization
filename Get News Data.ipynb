{
 "cells": [
  {
   "cell_type": "markdown",
   "metadata": {},
   "source": [
    "## Part I - Getting and parsing a text corpus"
   ]
  },
  {
   "cell_type": "code",
   "execution_count": 127,
   "metadata": {},
   "outputs": [
    {
     "data": {
      "text/html": [
       "<div>\n",
       "<style scoped>\n",
       "    .dataframe tbody tr th:only-of-type {\n",
       "        vertical-align: middle;\n",
       "    }\n",
       "\n",
       "    .dataframe tbody tr th {\n",
       "        vertical-align: top;\n",
       "    }\n",
       "\n",
       "    .dataframe thead th {\n",
       "        text-align: right;\n",
       "    }\n",
       "</style>\n",
       "<table border=\"1\" class=\"dataframe\">\n",
       "  <thead>\n",
       "    <tr style=\"text-align: right;\">\n",
       "      <th></th>\n",
       "      <th>short_description</th>\n",
       "      <th>headline</th>\n",
       "      <th>date</th>\n",
       "      <th>link</th>\n",
       "      <th>authors</th>\n",
       "      <th>category</th>\n",
       "    </tr>\n",
       "  </thead>\n",
       "  <tbody>\n",
       "    <tr>\n",
       "      <td>0</td>\n",
       "      <td>She left her husband. He killed their children...</td>\n",
       "      <td>There Were 2 Mass Shootings In Texas Last Week...</td>\n",
       "      <td>2018-05-26</td>\n",
       "      <td>https://www.huffingtonpost.com/entry/texas-ama...</td>\n",
       "      <td>Melissa Jeltsen</td>\n",
       "      <td>CRIME</td>\n",
       "    </tr>\n",
       "    <tr>\n",
       "      <td>1</td>\n",
       "      <td>Of course it has a song.</td>\n",
       "      <td>Will Smith Joins Diplo And Nicky Jam For The 2...</td>\n",
       "      <td>2018-05-26</td>\n",
       "      <td>https://www.huffingtonpost.com/entry/will-smit...</td>\n",
       "      <td>Andy McDonald</td>\n",
       "      <td>ENTERTAINMENT</td>\n",
       "    </tr>\n",
       "    <tr>\n",
       "      <td>2</td>\n",
       "      <td>The actor and his longtime girlfriend Anna Ebe...</td>\n",
       "      <td>Hugh Grant Marries For The First Time At Age 57</td>\n",
       "      <td>2018-05-26</td>\n",
       "      <td>https://www.huffingtonpost.com/entry/hugh-gran...</td>\n",
       "      <td>Ron Dicker</td>\n",
       "      <td>ENTERTAINMENT</td>\n",
       "    </tr>\n",
       "    <tr>\n",
       "      <td>3</td>\n",
       "      <td>The actor gives Dems an ass-kicking for not fi...</td>\n",
       "      <td>Jim Carrey Blasts 'Castrato' Adam Schiff And D...</td>\n",
       "      <td>2018-05-26</td>\n",
       "      <td>https://www.huffingtonpost.com/entry/jim-carre...</td>\n",
       "      <td>Ron Dicker</td>\n",
       "      <td>ENTERTAINMENT</td>\n",
       "    </tr>\n",
       "    <tr>\n",
       "      <td>4</td>\n",
       "      <td>The \"Dietland\" actress said using the bags is ...</td>\n",
       "      <td>Julianna Margulies Uses Donald Trump Poop Bags...</td>\n",
       "      <td>2018-05-26</td>\n",
       "      <td>https://www.huffingtonpost.com/entry/julianna-...</td>\n",
       "      <td>Ron Dicker</td>\n",
       "      <td>ENTERTAINMENT</td>\n",
       "    </tr>\n",
       "  </tbody>\n",
       "</table>\n",
       "</div>"
      ],
      "text/plain": [
       "                                   short_description  \\\n",
       "0  She left her husband. He killed their children...   \n",
       "1                           Of course it has a song.   \n",
       "2  The actor and his longtime girlfriend Anna Ebe...   \n",
       "3  The actor gives Dems an ass-kicking for not fi...   \n",
       "4  The \"Dietland\" actress said using the bags is ...   \n",
       "\n",
       "                                            headline       date  \\\n",
       "0  There Were 2 Mass Shootings In Texas Last Week... 2018-05-26   \n",
       "1  Will Smith Joins Diplo And Nicky Jam For The 2... 2018-05-26   \n",
       "2    Hugh Grant Marries For The First Time At Age 57 2018-05-26   \n",
       "3  Jim Carrey Blasts 'Castrato' Adam Schiff And D... 2018-05-26   \n",
       "4  Julianna Margulies Uses Donald Trump Poop Bags... 2018-05-26   \n",
       "\n",
       "                                                link          authors  \\\n",
       "0  https://www.huffingtonpost.com/entry/texas-ama...  Melissa Jeltsen   \n",
       "1  https://www.huffingtonpost.com/entry/will-smit...    Andy McDonald   \n",
       "2  https://www.huffingtonpost.com/entry/hugh-gran...       Ron Dicker   \n",
       "3  https://www.huffingtonpost.com/entry/jim-carre...       Ron Dicker   \n",
       "4  https://www.huffingtonpost.com/entry/julianna-...       Ron Dicker   \n",
       "\n",
       "        category  \n",
       "0          CRIME  \n",
       "1  ENTERTAINMENT  \n",
       "2  ENTERTAINMENT  \n",
       "3  ENTERTAINMENT  \n",
       "4  ENTERTAINMENT  "
      ]
     },
     "execution_count": 127,
     "metadata": {},
     "output_type": "execute_result"
    }
   ],
   "source": [
    "import pandas as pd\n",
    "df = pd.read_json('data/News_Category_Dataset.json', lines=True, orient='records')\n",
    "df.head()"
   ]
  },
  {
   "cell_type": "markdown",
   "metadata": {},
   "source": [
    "Let's start by looking at these URLs and making sure that they're valid before we bother getting them all.  They're supposed to be all from huffingtonpost (according to Kaggle where I got this dataset), so we'll check that with a regular expression before we move on."
   ]
  },
  {
   "cell_type": "code",
   "execution_count": 128,
   "metadata": {},
   "outputs": [
    {
     "data": {
      "text/plain": [
       "array(['huffingtonpost', 'huffingtonpost.comhttps://www.outsports',\n",
       "       'huffingtonpost.comhttp://www.newnownext',\n",
       "       'huffingtonpost.comhttps://www.theguardian',\n",
       "       'huffingtonpost.comhttp://www.citypages'], dtype=object)"
      ]
     },
     "execution_count": 128,
     "metadata": {},
     "output_type": "execute_result"
    }
   ],
   "source": [
    "import re\n",
    "p=re.compile(r'(?<=www\\.).+(?=\\.com)')\n",
    "\n",
    "def get_root(url):\n",
    "    tmp = p.search(url)\n",
    "    if tmp is None:\n",
    "        return None\n",
    "    else:\n",
    "        return tmp.group()\n",
    "\n",
    "df.link.apply(get_root).unique()[:5]"
   ]
  },
  {
   "cell_type": "markdown",
   "metadata": {},
   "source": [
    "Clearly some of these links don't seem valid, so let's look at a few at random to get a better sense of what's wrong with them."
   ]
  },
  {
   "cell_type": "code",
   "execution_count": 129,
   "metadata": {},
   "outputs": [
    {
     "name": "stdout",
     "output_type": "stream",
     "text": [
      "Total number of news articles = 124989\n",
      "Number of mismatches = 3774\n",
      "\n",
      "4785 'double links'.\n",
      "https://www.huffingtonpost.comhttps://medium.com/matter/on-gawker-s-problem-with-women-f1197d8c1a4e\n",
      "https://www.huffingtonpost.comhttp://www.usmagazine.com/celebrity-news/news/daisy-fuentes-and-richard-marx-couldnt-be-happier-after-romantic-wedding-photos-w160414\n",
      "https://www.huffingtonpost.comhttp://www.vh1.com/news/213630/dmc-big-freedia-and-more-join-vh1s-special-love-hip-hop-out-in-hip-hop/\n",
      "https://www.huffingtonpost.comhttp://www.realclearpolitics.com/articles/2015/08/13/americas_crush_on_political_outsiders_summer_fling_or_real_deal_127768.html\n",
      "https://www.huffingtonpost.comhttp://www.politico.com/story/2016/06/hardly-anybody-wants-to-speak-at-trumps-convention-224815\n",
      "https://www.huffingtonpost.comhttps://www.thedodo.com/bear-woman-cube-1257985982.html\n",
      "https://www.huffingtonpost.comhttp://www.theatlantic.com/politics/archive/2016/05/the-path-to-a-trump-presidency/482796/\n",
      "https://www.huffingtonpost.comhttps://www.upworthy.com/the-tampon-tax-is-real-these-are-the-40-states-taxing-periods?c=huf1\n",
      "https://www.huffingtonpost.comhttp://www.nytimes.com/2016/06/21/us/politics/corey-lewandowski-donald-trump.html\n",
      "https://www.huffingtonpost.comhttp://www.bbc.com/sport/tennis/36482288\n"
     ]
    }
   ],
   "source": [
    "import numpy as np\n",
    "df['root'] = df.link.apply(get_root)\n",
    "mismatches = df[df.root!='huffingtonpost']['link']\n",
    "print(f\"Total number of news articles = {len(df)}\\nNumber of mismatches = {len(mismatches)}\\n\")\n",
    "\n",
    "#Double Links\n",
    "p = re.compile('(?<=https://).+(?=(http://|https://))')\n",
    "double_link_idx = df[df['link'].apply(lambda x: p.search(x) is not None)].index\n",
    "print(f\"{len(double_link_idx)} 'double links'.\")\n",
    "\n",
    "for idx in np.random.choice(range(len(mismatches)), size=10):\n",
    "    print(mismatches.iloc[idx])"
   ]
  },
  {
   "cell_type": "markdown",
   "metadata": {},
   "source": [
    "Having just run the code above a few times, it appears these are all (or close to it) a link to another website, some with a HuffPo one appended to the front. I could pull out the real link with another regex pretty easily, but there are about 8,000 issues of ~125,000 articles total.  Besides, I don't really want to worry about the robot.txt policies for each of these websites when I can just scrape HuffingtonPost (which has a very permissive policy).  So I'm just going to drop these and move on with the scraping."
   ]
  },
  {
   "cell_type": "code",
   "execution_count": 130,
   "metadata": {},
   "outputs": [],
   "source": [
    "#Drop the non-HuffPo URLs\n",
    "df.drop(mismatches.index, inplace=True)\n",
    "df.drop([x for x in double_link_idx if x not in mismatches.index], inplace=True)"
   ]
  },
  {
   "cell_type": "markdown",
   "metadata": {},
   "source": [
    "Now since there are ~120,000 articles and I have other things to do today than watch requests fly one at a time, I'll be using asyncio to get the text of these links. https://www.huffpost.com/robots.txt doesn't show any page per minute limit nor does the /entry/* route seem to be on their disallow list, so I'm not going to have to deal with any special rate limiting (yay!).  I'm going to start with one link taken at random to test out the parsing.  From the inspector in chrome, it looks like I want to capture all the text within a section tag with id=\"entry-body\"."
   ]
  },
  {
   "cell_type": "markdown",
   "metadata": {},
   "source": [
    "Now since there are ~120,000 articles and I have other things to do today than watch requests fly one at a time, I'll be using asyncio to get the text of these links.  The actual scraping is done with the file 'get_articles.py' since jupyter and asyncio don't play well together because they both use the event loop (note that there did actually appear to be some throttle I had to deal with described on the blog post related to this notebook at alanpenkar.com).  Feel free to look at that code directly, however below is a light breakdown of the HTML parsing.  There were a couple different ways the pages looked with regard to structure and classes, so the process was a bit iterative of running the scraper on a random set of pages, then looking at the parsing errors and examining their format manually with Chrome Dev Tools and the BeautifulSoup code below."
   ]
  },
  {
   "cell_type": "code",
   "execution_count": 93,
   "metadata": {},
   "outputs": [
    {
     "data": {
      "text/plain": [
       "'Avocado lovers, good news for you. A small new study in  the Nutrition Journal  shows that eating half of a Hass avocado at lunchtime can help overweight adults feel full for longer in the hours following. This could be useful in combating hunger pangs between lunch and dinner -- which can lead to the urge to eat unhealthy snacks. The study was funded by the Hass Avocado Board, but the board did not have a role in the design or conduct of the study, nor the interpretation of the results. \"Avocados are a very popular and delicious fruit, and from the results of our study, may also be helpful for people who are looking to better manage their weight,\" study researcher Dr. Joan Sabate, a professor of nutrition at Loma Linda University School of Public Health, said in a statement. For the study, 26 people ages 25 to 65 who were overweight and moderately obese (with a body mass index higher than 25 but less than 35) were given the same breakfast for three days. Then for lunch, the participants ate one of three meals: a control lunch, which did not include avocados but had a salad, a French baguette and some chocolate chip cookies; an avocado-inclusive lunch, which included about half an avocado (but where portion sizes of salad dressing and cookie were reduced so that the calories and nutrients were still the same as the control lunch); and an avocado-added lunch, which included about half an avocado in addition to the control lunch. People who ate the avocado-added lunch were 40 percent less likely to want to eat again over the three hours following lunch, and 28 percent less likely to want to eat again over the five hours following lunch, versus those who did not have any avocado in their lunch. However, the researchers did note that addition of the half-avocado did mean an additional consumption of 112 calories. Avocados are known to be high in fat -- but they\\'re  high in the  good  kinds of fats,  called monounsaturated fat, that are known to help lower cholesterol levels.'"
      ]
     },
     "execution_count": 93,
     "metadata": {},
     "output_type": "execute_result"
    }
   ],
   "source": [
    "import requests\n",
    "from bs4 import BeautifulSoup\n",
    "from fake_useragent import UserAgent\n",
    "ua = UserAgent()\n",
    "\n",
    "response = requests.get('https://www.huffingtonpost.com/entry/avocado-feel-full-overweight-lunch_us_5b9dc55de4b03a1dcc8cae44', headers={'User-Agent':ua.random})\n",
    "soup = BeautifulSoup(response.text)\n",
    "string = \" \".join(soup.find(\"section\", {\"id\":\"entry-body\"}).stripped_strings)\n",
    "\n",
    "string"
   ]
  },
  {
   "cell_type": "markdown",
   "metadata": {},
   "source": [
    "The parsing logic above worked for most pages, however there were parsing issues with about 5% of pages.  The code below managed to handle those cases.  If you look closely, you will see some issues with parsing that leave some strange artifacts such as '\\x0a'.  That will be dealt with with text preprocessing in the next notebook."
   ]
  },
  {
   "cell_type": "code",
   "execution_count": 91,
   "metadata": {},
   "outputs": [
    {
     "data": {
      "text/plain": [
       "'DENTON, Texas―Amanda Painter sat at the kitchen table in an unfamiliar apartment with an absurd dilemma: She had nothing to wear to a vigil for her three dead children. Her clothes were at home, but her home was now a crime scene. Less than 100 hours after her children were murdered, Amanda, 29, found herself in a Walmart, hobbling down the aisles, the gunshot wound to her neck concealed by a gauze bandage. She found a suitable purple shirt and kept her head down. She hadn’t expected to see so many children at the store, laughing and playing. For eight years, Amanda answered to “Mommy.” Now, her babies ― Odin, 8, Caydence, 6, and Drake, 4 ― were gone. Each time she closed her eyes, even to blink, they returned. Last week, Amanda’s ex-husband, Justin Painter, 39, entered her home in Ponder, Texas,and fatally shot her boyfriend, Seth Richardson, 29, her three children and then himself. He intentionally kept Amanda alive, he told her, to live with the pain. It was an unthinkable tragedy. Two days later another unthinkable tragedy occurred, more than 300 miles away. A student opened fire in a high school in Santa Fe, killing 10. Both events were mass shootings ― that is, they each involved at least four fatalities ― and both were in Texas. There’s no place worse than Texas when it comes to mass shootings. Since 2009, the state has experienced 20 incidents, the most of any state. In 65 percent of cases, the victims includeda romantic partner or family member of the shooter, just like what happened to Amanda. Yet most people only hear about the school shootings ― and not Amanda’s story. When HuffPost interviewed Amanda, she had just been released from the hospital and was settling into an apartment 20 minutes away from her home, provided by the local domestic violence organization, Denton County Friends of the Family. Advocates stocked the apartment with comfort food, flowers, bath bombs and toiletries, and scribbled inspirational messages on the mirrors. “We are here for you!” someone had written in dry-erase marker. “This is a place to heal and feel safe.” Amanda was visibly in pain, and moved slowly around the apartment, wincing. She’d been asleep in bed with her boyfriend when her ex-husband showed up that morning. Seth was lying next to her, his arm wrapped around her body, his stomach pressed into her back, when Justin came in and shot Seth in the head. The bullet went through Seth’s body and into Amanda’s, fracturing her neck and breaking her ribs. Her physical injuries were nothing, she said, compared to her emotional pain. In conversation, Amanda would appear composed for a minute, sometimes two, but then her face crumpled, contorted by grief. “Your life can always get worse,” she said, breaking down. “I don’t think mine can get any lower. Somehow, I’m still fucking standing, and I’m going to keep going, and I don’t know how, but I’m going to keep going.” Everyone kept asking her what she needed, she said. The only thing she needed she couldn’t have. “My kids were my coping mechanism, and now they are gone,” Amanda said. “He knew when he took them from me, he took everything. He’s won.” The relationship Amanda met Justin online when she was 17. They both played “World of Warcraft.” Her username was Amarella; he was Torak. She lived in Richmond, Virginia, and he lived in Tulsa, Oklahoma. They chatted on the internet for a year, getting to know each other’s stories. Amanda’s was complicated: Her mother struggled with drug addiction, and Amanda and her identical twin sister, Ashley, were frequently uprooted as kids, bouncing from school to school. Justin offered stability, and a chance at a fresh start. He was 10 years older and had a job at a Walmart distribution center in Oklahoma. When she was 19, he drove to Virginia to pick her up and bring her home with him. It was the first time they’d met in person. Once they were in Oklahoma, Amanda recalled, it seemed like Justin wanted her to stay indoors and only play video games. Within a few months, she was stir-crazy. She planned a trip back to Virginia to see her family. While there, she discovered she was pregnant. She didn’t really want to go back to Oklahoma, she said, because she already harbored concerns about the relationship. But she also worried about being a single mother. She had grown up in poverty, and she didn’t want that for her baby. Without much choice, she went back to Oklahoma to be with Justin. Her son Odin was born in 2009. Caydence came next, in 2012. They moved to Texas to be closer to Justin’s family. Then came Drake, in 2013. During their nine-year relationship, Justin was not physically abusive toward her, Amanda said, but sometimes she felt afraid of him. When he was angry, he would slam things ― the television remote, his computer chair. She said he was controlling, especially when it came to family finances. She was not given a debit card until after Caydence was born. Before that, every time she needed anything ― diapers, milk, gas for the car ― she had to ask for cash. Amanda said she often felt depressed. Every so often, she said, she would tell Justin she wasn’t happy and he’d beg her to stay, saying he couldn’t live without her. She said he also threatened that if she did leave, she’d lose the kids. “It’s not a huge surprise to me that there wasn’t a lot of physical violence, because it wasn’t necessary,” said Donna Bloom, director of legal services at Denton County Friends of the Family and one of the advocates who stayed with Amanda in the days after the shooting. Physical violence, she said, is just one of many tools people use to control their partners. “Amanda is a pretty compliant person, so it didn’t have to escalate to physical violence,” Bloom said. “He could use these other tools to achieve the same objective, which is to be in control.” The separation and the gun Last year, Amanda finally decided to leave Justin. She was about to turn 28 and felt a growing sense of independence, thanks to a new job. “I thought, if I’m going to take care of the children and work full-time and take care of the house, I just need to get out,” she said. On April 21, 2017, she told Justin she wanted to try separating, and that she was going to move in with a friend. That night, she said, she and Justin went to sleep together, but in the morning, he wasn’t in bed. She found him in another room, crying. She said he told her that while she was asleep, he had gotten out his gun, loaded it and planned to kill himself. Scared for the safety of her children, Amanda decided to leave right away. Justin grew angry, she said, and starting throwing things, breaking their flat-screen television over his knees. She buckled the kids in the car and went back in the house to get the gun. It was still loaded, she said. She put it in the trunk. “I took it because I was afraid he was going to shoot himself,” Amanda said. She wasn’t the only one who was worried. According to a police report obtained by HuffPost, Justin’s stepfather called 911 that morning to request a welfare check on his son, and an ambulance was called. Police confirmed to HuffPost that Justin was voluntarily admitted into a mental health facility. While he was seeking medical help, Amanda moved out with the kids. When he returned home, she said, they both took turns caring for the children. Her shifts at a nursing home were unpredictable, and she needed his parenting support. Still, she was surprised when he filed for divorce that summer. He fought for primary custody, and got it. “I didn’t have any money,” Amanda said. She went to court without a lawyer. Amanda was granted visitation with her children every other weekend. This worked out for a while, she said. Their relationship grew amicable. Sometimes Justin came over for dinner. Other times, they did stuff with the kids together. But there was one point of contention: the gun. Earlier this year, Amanda recalls, Justin’s family asked her to return his gun. Amanda didn’t want to give it back, she said, but she felt like she had no choice. Justin told her she could get in trouble for allegedly stealing it. So she reluctantly gave it back to Justin’s family, she said. At some point, Amanda believes, they returned it to him. It was the same gun he brought to her house and used to kill her children, police confirmed to HuffPost. Justin’s family did not respond to HuffPost’s request for comment. The incident On the evening of May 15, Amanda and Justin took the kids out for pizza. During the car ride, Amanda told Justin about her new boyfriend, that it was serious and he was planning to move in with her. For the past few months, Amanda had been in a long-distance relationship with Seth Richardson, whom she knew from her teen years. They, too, had met through “World of Warcraft,” and had kept in touch for a decade. “We just had this bond, it never left,” Amanda said. “There was so much positivity when we were together.” Seth lived in South Carolina, and had recently decided to move to Texas for Amanda. They hoped to start a family together. At the time she broke the news to Justin,\\xa0Seth was already on the road, making the 19-hour drive to Texas. Justin’s face fell, Amanda said. Even though they’d been separated a year, he was still holding out hope for reconciliation. “I saw him fall apart,” she said. “He kept saying, ‘I’m trying to love you, I’m trying to change.’” He started driving erratically, she said, and screamed at her and the kids. When they got back to her house, she had to plead with him to allow the kids to stay for dinner. She promised to bring them back to his house afterward. Amanda and her kids ate pizza on her bed (pepperoni for Odin and Caydence; black olive, sausage and mushroom for Drake; onion for her) and watched the movie “Atlantis.” They cuddled. After dinner, Amanda drove them back to Justin’s house, and gave each of them a goodnight kiss. She watched them file inside. Once she got home, she fell asleep. Around 6:30 the next morning, she got a call from Seth. He had finally arrived at her house. “I didn’t even hang up the phone. I threw it on the bed and ran outside,” she recalled. “I hugged him and kissed his neck and hugged him and hugged him. I was just so excited he was there. It meant our life was about to start.” Seth was exhausted from driving, and they soon fell asleep together, spooning on her bed. They didn’t rest long. Some time around 8 a.m., Amanda woke to a loud bang next to her head. It was unlike anything she’d ever heard, and her back was alight with searing pain. Her ears rang and she was paralyzed with confusion. Then she heard more bangs. “Seth!” she screamed. “Seth!” Moments passed ― minutes? Seconds? Time collapsed for Amanda. Then she heard a voice in the doorway. It was Justin. “Seth’s dead. The kids are dead. And you’re going to have to live with it,” she recalls him saying. He shot himself in front of her. She managed to turn herself over, and saw Seth lying beside her. He was shot. Amanda grabbed her phone and dialed 911, stumbling into the living room. She prayed that Justin was bluffing about the children, trying to scare her. Then she saw a shoe lying on the ground. A little leg. Closer, and she could see all three children, shot to death. Neighbors said they sawJustin arrive at the houseWednesday morning with the children and bring them into the home. Amanda collapsed on the ground. For some reason, her arms weren’t working. She wanted to pick up her children, but she couldn’t. “I thought my body was breaking down because of my mental state,” she said. In reality, she had been shot. When Justin shot Seth, who was asleep cuddling her, the bullet went through him and into her body. The ambulance arrived to take her to the hospital, but she didn’t want to go. She didn’t want to leave her children behind. Later, a female detective told her that the first responders all made a pact ― they would not let the children ride in the same vehicle as their deceased father, the man who stole their lives. While in the hospital, Amanda posted a series of emotional videos on her Facebook page, explaining what had happened. She felt a desperate urge to share, to unload her grief for others to see and reckon with. But it backfired. In the comments, she said, people were blaming her for what happened. Why? Because she left. The vigil It was a bright, clear evening at Parkview Elementary School in Fort Worth, where Odin had been in second grade and Caydence was in kindergarten. At 4, Drake was still in day care, but he’d been looking forward to attending the school when he was old enough, like his big sister and brother. Around 100 people gathered to mourn. Parents held on to their children tightly. The crowd was quiet, save for the sounds of sniffles and subdued crying. In front of the school, people left offerings of teddy bears and bouquets of flowers. Amanda sat near the back, on a stone bench, flanked by her twin sister. Her face was pained. She cried, on and off, and listened as student after student took the microphone to offer a memory of her children. “Odin always used to hit my head with his locker accidentally because he had the locker above me.” “Caydence used to play with me at recess.” “Whenever I was on the lonely bench, Odin would ask if I wanted to play with him.” “He was always happy. I never saw him not be happy. He always had a big smile on his face.” Afterward, each child was handed a helium balloon to write a message on and send up to heaven ― up to their friends. One balloon popped loudly next to Amanda and she startled, jumping up and retreating tearfully to the parking lot. It sounded too much like a gunshot. Once the balloons were up in the air, fading into the night sky, she came back. She sang “Amazing Grace” along with the crowd, and held a flickering white candle. The program was over, and people started to disperse, gathering up their families and walking to their cars. Amanda stood alone. And then, one by one, children began to approach, lining up to see her. They hugged her legs, squeezed her chest, kissed her cheek. They knew what she needed. Need help? In the U.S., call 1-800-799-SAFE (7233) for theNational Domestic Violence Hotline.'"
      ]
     },
     "execution_count": 91,
     "metadata": {},
     "output_type": "execute_result"
    }
   ],
   "source": [
    "response = requests.get('https://www.huffingtonpost.com/entry/texas-amanda-painter-mass-shooting_us_5b081ab4e4b0802d69caad89', headers={'User-Agent':ua.random})\n",
    "soup = BeautifulSoup(response.text)\n",
    "string = \" \".join([''.join(x.stripped_strings) for x in soup.find_all(\"div\", {\"class\":\"content-list-component\"}) ])\n",
    "    \n",
    "string"
   ]
  },
  {
   "cell_type": "markdown",
   "metadata": {},
   "source": [
    "On inspection, several of these pages (like the one below) don't exist anymore.  However, that'll get taken care of in the preprocessing notebook as well."
   ]
  },
  {
   "cell_type": "code",
   "execution_count": 139,
   "metadata": {},
   "outputs": [
    {
     "data": {
      "text/plain": [
       "'https://www.huffingtonpost.com/entry/taxidermist-immortalizes-michigan-state-win-with-chipmunks_us_56328a38e4b0c66bae5bcf89'"
      ]
     },
     "execution_count": 139,
     "metadata": {},
     "output_type": "execute_result"
    }
   ],
   "source": [
    "df.loc[76120,'link']"
   ]
  }
 ],
 "metadata": {
  "kernelspec": {
   "display_name": "Python 3",
   "language": "python",
   "name": "python3"
  },
  "language_info": {
   "codemirror_mode": {
    "name": "ipython",
    "version": 3
   },
   "file_extension": ".py",
   "mimetype": "text/x-python",
   "name": "python",
   "nbconvert_exporter": "python",
   "pygments_lexer": "ipython3",
   "version": "3.7.3"
  }
 },
 "nbformat": 4,
 "nbformat_minor": 4
}
